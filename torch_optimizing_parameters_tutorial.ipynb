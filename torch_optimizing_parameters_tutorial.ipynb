{
 "cells": [
  {
   "cell_type": "code",
   "execution_count": 1,
   "metadata": {},
   "outputs": [
    {
     "name": "stdout",
     "output_type": "stream",
     "text": [
      "cuda\n"
     ]
    }
   ],
   "source": [
    "import torch\n",
    "from torch import nn\n",
    "from torch.utils.data import DataLoader\n",
    "from torchvision import datasets\n",
    "from torchvision.transforms import ToTensor\n",
    "\n",
    "device = torch.device(\"cuda\" if torch.cuda.is_available() else \"cpu\")\n",
    "print(device)"
   ]
  },
  {
   "cell_type": "code",
   "execution_count": 3,
   "metadata": {},
   "outputs": [],
   "source": [
    "class NeuralNetwork(nn.Module):\n",
    "    def __init__(self):\n",
    "        super().__init__()\n",
    "        self.flatten = nn.Flatten()\n",
    "        self.linear_relu_stack = nn.Sequential(\n",
    "            nn.Linear(28*28, 512),\n",
    "            nn.ReLU(),\n",
    "            nn.Linear(512, 512),\n",
    "            nn.ReLU(),\n",
    "            nn.Linear(512, 10)\n",
    "        )\n",
    "    \n",
    "    def forward(self, x):\n",
    "        x = self.flatten(x)\n",
    "        logits = self.linear_relu_stack(x)\n",
    "\n",
    "        return logits"
   ]
  },
  {
   "cell_type": "code",
   "execution_count": 4,
   "metadata": {},
   "outputs": [
    {
     "name": "stdout",
     "output_type": "stream",
     "text": [
      "NeuralNetwork(\n",
      "  (flatten): Flatten(start_dim=1, end_dim=-1)\n",
      "  (linear_relu_stack): Sequential(\n",
      "    (0): Linear(in_features=784, out_features=512, bias=True)\n",
      "    (1): ReLU()\n",
      "    (2): Linear(in_features=512, out_features=512, bias=True)\n",
      "    (3): ReLU()\n",
      "    (4): Linear(in_features=512, out_features=10, bias=True)\n",
      "  )\n",
      ")\n"
     ]
    }
   ],
   "source": [
    "model = NeuralNetwork().to(device)\n",
    "print(model)"
   ]
  },
  {
   "cell_type": "code",
   "execution_count": 5,
   "metadata": {},
   "outputs": [
    {
     "name": "stdout",
     "output_type": "stream",
     "text": [
      "Predicted class: tensor([5], device='cuda:0')\n"
     ]
    }
   ],
   "source": [
    "X = torch.rand(1, 28, 28, device=device)\n",
    "logits = model(X)\n",
    "pred_probab = nn.Softmax(dim=1)(logits)\n",
    "y_pred = pred_probab.argmax(1)\n",
    "print(f\"Predicted class: {y_pred}\")"
   ]
  },
  {
   "cell_type": "code",
   "execution_count": 9,
   "metadata": {},
   "outputs": [
    {
     "name": "stdout",
     "output_type": "stream",
     "text": [
      "torch.Size([3, 28, 28])\n"
     ]
    },
    {
     "data": {
      "text/plain": [
       "<matplotlib.image.AxesImage at 0x218cd6697e0>"
      ]
     },
     "execution_count": 9,
     "metadata": {},
     "output_type": "execute_result"
    },
    {
     "data": {
      "image/png": "[encoded data removed]",
      "text/plain": [
       "<Figure size 640x480 with 1 Axes>"
      ]
     },
     "metadata": {},
     "output_type": "display_data"
    }
   ],
   "source": [
    "import matplotlib.pyplot as plt\n",
    "\n",
    "input_image = torch.rand(3, 28, 28)\n",
    "print(input_image.size())\n",
    "plt.imshow(input_image[0, :, :], cmap='gray')"
   ]
  },
  {
   "cell_type": "code",
   "execution_count": 13,
   "metadata": {},
   "outputs": [
    {
     "name": "stdout",
     "output_type": "stream",
     "text": [
      "torch.Size([3, 784]) tensor([[0.1010, 0.0300, 0.3150,  ..., 0.4345, 0.4179, 0.8607],\n",
      "        [0.2832, 0.6895, 0.1582,  ..., 0.3194, 0.2040, 0.7820],\n",
      "        [0.8064, 0.1672, 0.5325,  ..., 0.8141, 0.1619, 0.1729]])\n"
     ]
    }
   ],
   "source": [
    "flatten = nn.Flatten()\n",
    "flat_image = flatten(input_image)\n",
    "print(flat_image.size(), flat_image)"
   ]
  },
  {
   "cell_type": "code",
   "execution_count": 12,
   "metadata": {},
   "outputs": [
    {
     "name": "stdout",
     "output_type": "stream",
     "text": [
      "torch.Size([3, 20]) tensor([[ 0.2633, -0.4648,  0.0013, -0.7757, -0.2248,  0.0836,  0.1775, -0.0936,\n",
      "          0.6921,  0.3516, -0.0666,  0.0871, -0.2965, -0.5113,  0.2562,  0.1515,\n",
      "         -0.0175,  0.0323,  0.4655,  0.0948],\n",
      "        [ 0.0728, -0.7824,  0.3403, -0.4899, -0.1005,  0.0775,  0.4241, -0.1651,\n",
      "          0.6014,  0.1897, -0.0153,  0.4095, -0.3556, -0.2590,  0.2376,  0.1188,\n",
      "          0.2663, -0.1493,  0.2828,  0.3946],\n",
      "        [ 0.1054, -0.6291,  0.2377, -0.4085, -0.2171, -0.3266,  0.3551, -0.0621,\n",
      "          0.6405,  0.2517,  0.1764,  0.1599, -0.3382, -0.4216, -0.0485, -0.1799,\n",
      "          0.2346, -0.1888,  0.5749, -0.0651]], grad_fn=<AddmmBackward0>)\n"
     ]
    }
   ],
   "source": [
    "layer1 = nn.Linear(in_features=28*28, out_features=20) \n",
    "hidden1 = layer1(flat_image)\n",
    "print(hidden1.size(), hidden1)"
   ]
  },
  {
   "cell_type": "code",
   "execution_count": 14,
   "metadata": {},
   "outputs": [
    {
     "name": "stdout",
     "output_type": "stream",
     "text": [
      "Before ReLU: tensor([[ 0.2633, -0.4648,  0.0013, -0.7757, -0.2248,  0.0836,  0.1775, -0.0936,\n",
      "          0.6921,  0.3516, -0.0666,  0.0871, -0.2965, -0.5113,  0.2562,  0.1515,\n",
      "         -0.0175,  0.0323,  0.4655,  0.0948],\n",
      "        [ 0.0728, -0.7824,  0.3403, -0.4899, -0.1005,  0.0775,  0.4241, -0.1651,\n",
      "          0.6014,  0.1897, -0.0153,  0.4095, -0.3556, -0.2590,  0.2376,  0.1188,\n",
      "          0.2663, -0.1493,  0.2828,  0.3946],\n",
      "        [ 0.1054, -0.6291,  0.2377, -0.4085, -0.2171, -0.3266,  0.3551, -0.0621,\n",
      "          0.6405,  0.2517,  0.1764,  0.1599, -0.3382, -0.4216, -0.0485, -0.1799,\n",
      "          0.2346, -0.1888,  0.5749, -0.0651]], grad_fn=<AddmmBackward0>)\n",
      "\n",
      "\n",
      "After ReLU: tensor([[0.2633, 0.0000, 0.0013, 0.0000, 0.0000, 0.0836, 0.1775, 0.0000, 0.6921,\n",
      "         0.3516, 0.0000, 0.0871, 0.0000, 0.0000, 0.2562, 0.1515, 0.0000, 0.0323,\n",
      "         0.4655, 0.0948],\n",
      "        [0.0728, 0.0000, 0.3403, 0.0000, 0.0000, 0.0775, 0.4241, 0.0000, 0.6014,\n",
      "         0.1897, 0.0000, 0.4095, 0.0000, 0.0000, 0.2376, 0.1188, 0.2663, 0.0000,\n",
      "         0.2828, 0.3946],\n",
      "        [0.1054, 0.0000, 0.2377, 0.0000, 0.0000, 0.0000, 0.3551, 0.0000, 0.6405,\n",
      "         0.2517, 0.1764, 0.1599, 0.0000, 0.0000, 0.0000, 0.0000, 0.2346, 0.0000,\n",
      "         0.5749, 0.0000]], grad_fn=<ReluBackward0>)\n"
     ]
    }
   ],
   "source": [
    "print(f\"Before ReLU: {hidden1}\\n\\n\")\n",
    "hidden1 = nn.ReLU()(hidden1)\n",
    "print(f\"After ReLU: {hidden1}\")"
   ]
  },
  {
   "cell_type": "code",
   "execution_count": 15,
   "metadata": {},
   "outputs": [
    {
     "name": "stdout",
     "output_type": "stream",
     "text": [
      "tensor([[ 0.3387, -0.3570, -0.2548, -0.0876, -0.3919, -0.0670, -0.0455, -0.2563,\n",
      "          0.1761,  0.0988],\n",
      "        [ 0.3665, -0.3286, -0.2069, -0.1723, -0.4744, -0.1505, -0.0468, -0.2555,\n",
      "          0.0649,  0.0806],\n",
      "        [ 0.2289, -0.3041, -0.2625, -0.1815, -0.2587,  0.0505, -0.1168, -0.1929,\n",
      "          0.1288, -0.0783]], grad_fn=<AddmmBackward0>)\n"
     ]
    }
   ],
   "source": [
    "seq_modules = nn.Sequential(\n",
    "    flatten,\n",
    "    layer1,\n",
    "    nn.ReLU(),\n",
    "    nn.Linear(20, 10)\n",
    ")\n",
    "\n",
    "input_image = torch.rand(3, 28, 28)\n",
    "logits = seq_modules(input_image)\n",
    "print(logits)"
   ]
  },
  {
   "cell_type": "code",
   "execution_count": 16,
   "metadata": {},
   "outputs": [],
   "source": [
    "softmax = nn.Softmax(dim=1)\n",
    "pred_probab = softmax(logits)"
   ]
  },
  {
   "cell_type": "code",
   "execution_count": 17,
   "metadata": {},
   "outputs": [
    {
     "data": {
      "text/plain": [
       "tensor([[0.1488, 0.0742, 0.0822, 0.0971, 0.0717, 0.0992, 0.1013, 0.0821, 0.1264,\n",
       "         0.1170],\n",
       "        [0.1572, 0.0784, 0.0886, 0.0917, 0.0678, 0.0937, 0.1040, 0.0844, 0.1162,\n",
       "         0.1181],\n",
       "        [0.1367, 0.0802, 0.0836, 0.0907, 0.0839, 0.1143, 0.0967, 0.0896, 0.1237,\n",
       "         0.1005]], grad_fn=<SoftmaxBackward0>)"
      ]
     },
     "execution_count": 17,
     "metadata": {},
     "output_type": "execute_result"
    }
   ],
   "source": [
    "pred_probab"
   ]
  },
  {
   "cell_type": "code",
   "execution_count": 18,
   "metadata": {},
   "outputs": [
    {
     "name": "stdout",
     "output_type": "stream",
     "text": [
      "Model structure: NeuralNetwork(\n",
      "  (flatten): Flatten(start_dim=1, end_dim=-1)\n",
      "  (linear_relu_stack): Sequential(\n",
      "    (0): Linear(in_features=784, out_features=512, bias=True)\n",
      "    (1): ReLU()\n",
      "    (2): Linear(in_features=512, out_features=512, bias=True)\n",
      "    (3): ReLU()\n",
      "    (4): Linear(in_features=512, out_features=10, bias=True)\n",
      "  )\n",
      ")\n",
      "\n",
      "\n",
      "Layer: linear_relu_stack.0.weight | Size: torch.Size([512, 784]) | Values : tensor([[-0.0242, -0.0156,  0.0078,  ...,  0.0174,  0.0189,  0.0299],\n",
      "        [ 0.0204,  0.0184,  0.0304,  ..., -0.0325,  0.0073,  0.0113]],\n",
      "       device='cuda:0', grad_fn=<SliceBackward0>) \n",
      "\n",
      "Layer: linear_relu_stack.0.bias | Size: torch.Size([512]) | Values : tensor([ 0.0254, -0.0139], device='cuda:0', grad_fn=<SliceBackward0>) \n",
      "\n",
      "Layer: linear_relu_stack.2.weight | Size: torch.Size([512, 512]) | Values : tensor([[-0.0037,  0.0215, -0.0074,  ...,  0.0425, -0.0234,  0.0124],\n",
      "        [ 0.0300,  0.0126,  0.0299,  ..., -0.0105, -0.0090,  0.0021]],\n",
      "       device='cuda:0', grad_fn=<SliceBackward0>) \n",
      "\n",
      "Layer: linear_relu_stack.2.bias | Size: torch.Size([512]) | Values : tensor([ 0.0089, -0.0440], device='cuda:0', grad_fn=<SliceBackward0>) \n",
      "\n",
      "Layer: linear_relu_stack.4.weight | Size: torch.Size([10, 512]) | Values : tensor([[-0.0090,  0.0055,  0.0278,  ..., -0.0244, -0.0381, -0.0174],\n",
      "        [ 0.0429,  0.0044,  0.0365,  ..., -0.0172,  0.0006,  0.0363]],\n",
      "       device='cuda:0', grad_fn=<SliceBackward0>) \n",
      "\n",
      "Layer: linear_relu_stack.4.bias | Size: torch.Size([10]) | Values : tensor([-0.0236, -0.0016], device='cuda:0', grad_fn=<SliceBackward0>) \n",
      "\n"
     ]
    }
   ],
   "source": [
    "print(f\"Model structure: {model}\\n\\n\")\n",
    "\n",
    "for name, param in model.named_parameters():\n",
    "    print(f\"Layer: {name} | Size: {param.size()} | Values : {param[:2]} \\n\")"
   ]
  },
  {
   "cell_type": "markdown",
   "metadata": {},
   "source": [
    "# Optimizing model parameters"
   ]
  },
  {
   "cell_type": "code",
   "execution_count": 19,
   "metadata": {},
   "outputs": [
    {
     "name": "stdout",
     "output_type": "stream",
     "text": [
      "Downloading http://fashion-mnist.s3-website.eu-central-1.amazonaws.com/train-images-idx3-ubyte.gz\n",
      "Downloading http://fashion-mnist.s3-website.eu-central-1.amazonaws.com/train-images-idx3-ubyte.gz to data\\FashionMNIST\\raw\\train-images-idx3-ubyte.gz\n"
     ]
    },
    {
     "name": "stderr",
     "output_type": "stream",
     "text": [
      "100%|██████████| 26421880/26421880 [00:03<00:00, 7557698.98it/s]\n"
     ]
    },
    {
     "name": "stdout",
     "output_type": "stream",
     "text": [
      "Extracting data\\FashionMNIST\\raw\\train-images-idx3-ubyte.gz to data\\FashionMNIST\\raw\n",
      "\n",
      "Downloading http://fashion-mnist.s3-website.eu-central-1.amazonaws.com/train-labels-idx1-ubyte.gz\n",
      "Downloading http://fashion-mnist.s3-website.eu-central-1.amazonaws.com/train-labels-idx1-ubyte.gz to data\\FashionMNIST\\raw\\train-labels-idx1-ubyte.gz\n"
     ]
    },
    {
     "name": "stderr",
     "output_type": "stream",
     "text": [
      "100%|██████████| 29515/29515 [00:00<00:00, 155937.70it/s]\n"
     ]
    },
    {
     "name": "stdout",
     "output_type": "stream",
     "text": [
      "Extracting data\\FashionMNIST\\raw\\train-labels-idx1-ubyte.gz to data\\FashionMNIST\\raw\n",
      "\n",
      "Downloading http://fashion-mnist.s3-website.eu-central-1.amazonaws.com/t10k-images-idx3-ubyte.gz\n",
      "Downloading http://fashion-mnist.s3-website.eu-central-1.amazonaws.com/t10k-images-idx3-ubyte.gz to data\\FashionMNIST\\raw\\t10k-images-idx3-ubyte.gz\n"
     ]
    },
    {
     "name": "stderr",
     "output_type": "stream",
     "text": [
      "100%|██████████| 4422102/4422102 [00:01<00:00, 2711459.75it/s]\n"
     ]
    },
    {
     "name": "stdout",
     "output_type": "stream",
     "text": [
      "Extracting data\\FashionMNIST\\raw\\t10k-images-idx3-ubyte.gz to data\\FashionMNIST\\raw\n",
      "\n",
      "Downloading http://fashion-mnist.s3-website.eu-central-1.amazonaws.com/t10k-labels-idx1-ubyte.gz\n",
      "Downloading http://fashion-mnist.s3-website.eu-central-1.amazonaws.com/t10k-labels-idx1-ubyte.gz to data\\FashionMNIST\\raw\\t10k-labels-idx1-ubyte.gz\n"
     ]
    },
    {
     "name": "stderr",
     "output_type": "stream",
     "text": [
      "100%|██████████| 5148/5148 [00:00<00:00, 5116653.32it/s]"
     ]
    },
    {
     "name": "stdout",
     "output_type": "stream",
     "text": [
      "Extracting data\\FashionMNIST\\raw\\t10k-labels-idx1-ubyte.gz to data\\FashionMNIST\\raw\n",
      "\n"
     ]
    },
    {
     "name": "stderr",
     "output_type": "stream",
     "text": [
      "\n"
     ]
    }
   ],
   "source": [
    "training_data = datasets.FashionMNIST(\n",
    "    root='data',\n",
    "    train=True,\n",
    "    download=True,\n",
    "    transform=ToTensor()\n",
    ")\n",
    "\n",
    "test_data = datasets.FashionMNIST(\n",
    "    root='data',\n",
    "    train=False,\n",
    "    download=True,\n",
    "    transform=ToTensor()\n",
    ")"
   ]
  },
  {
   "cell_type": "code",
   "execution_count": 36,
   "metadata": {},
   "outputs": [
    {
     "data": {
      "image/png": "[encoded data removed]",
      "text/plain": [
       "<Figure size 640x480 with 1 Axes>"
      ]
     },
     "metadata": {},
     "output_type": "display_data"
    }
   ],
   "source": [
    "import matplotlib.pyplot as plt\n",
    "\n",
    "# get first image in the training set\n",
    "plt.figure()\n",
    "plt.imshow(training_data[0][0].reshape(28, 28), cmap='gray')\n",
    "plt.title('Image of {}'.format(training_data[0][1]))\n",
    "plt.show()"
   ]
  },
  {
   "cell_type": "code",
   "execution_count": 52,
   "metadata": {},
   "outputs": [],
   "source": [
    "train_dataloader = DataLoader(training_data, batch_size=64)\n",
    "test_dataloader = DataLoader(test_data, batch_size=64)"
   ]
  },
  {
   "cell_type": "code",
   "execution_count": 47,
   "metadata": {},
   "outputs": [
    {
     "name": "stdout",
     "output_type": "stream",
     "text": [
      "NeuralNetwork(\n",
      "  (flatten): Flatten(start_dim=1, end_dim=-1)\n",
      "  (linear_relu_stack): Sequential(\n",
      "    (0): Linear(in_features=784, out_features=512, bias=True)\n",
      "    (1): ReLU()\n",
      "    (2): Linear(in_features=512, out_features=512, bias=True)\n",
      "    (3): ReLU()\n",
      "    (4): Linear(in_features=512, out_features=10, bias=True)\n",
      "  )\n",
      ")\n"
     ]
    }
   ],
   "source": [
    "class NeuralNetwork(nn.Module):\n",
    "    \n",
    "    def __init__(self):\n",
    "        super().__init__()\n",
    "        self.flatten = nn.Flatten()\n",
    "        self.linear_relu_stack = nn.Sequential(\n",
    "            nn.Linear(28*28, 512),\n",
    "            nn.ReLU(),\n",
    "            nn.Linear(512, 512),\n",
    "            nn.ReLU(),\n",
    "            nn.Linear(512, 10)\n",
    "        )\n",
    "    \n",
    "    def forward(self, x):\n",
    "        x = self.flatten(x)\n",
    "        logits = self.linear_relu_stack(x)\n",
    "        return logits\n",
    "\n",
    "model = NeuralNetwork().to(device)\n",
    "print(model)"
   ]
  },
  {
   "cell_type": "code",
   "execution_count": 49,
   "metadata": {},
   "outputs": [],
   "source": [
    "learning_rate = 1e-3\n",
    "batch_size = 64\n",
    "epochs = 5\n",
    "\n",
    "loss_fn = nn.CrossEntropyLoss()\n",
    "optimizer = torch.optim.SGD(model.parameters(), lr=learning_rate)\n"
   ]
  },
  {
   "cell_type": "code",
   "execution_count": 55,
   "metadata": {},
   "outputs": [],
   "source": [
    "def train_loop(dataloader, model, loss_fn, optimizer):\n",
    "    size = len(dataloader.dataset)\n",
    "\n",
    "    model.train()\n",
    "    for batch, (X, y) in enumerate(dataloader):\n",
    "        X, y = X.to(device), y.to(device)\n",
    "\n",
    "        # Compute prediction and loss\n",
    "        pred = model(X)\n",
    "        loss = loss_fn(pred, y)\n",
    "\n",
    "        # Backpropagation\n",
    "        loss.backward()\n",
    "        optimizer.step()\n",
    "        optimizer.zero_grad()\n",
    "\n",
    "        if batch % 100 == 0:\n",
    "            loss, current = loss.item(), batch*len(X)\n",
    "            print(f\"loss: {loss:>7f} [{current:>5d}/{size:>5d}]\")\n",
    "\n",
    "def test_loop(dataloader, model, loss_fn):\n",
    "\n",
    "    model.eval()\n",
    "    size = len(dataloader.dataset)\n",
    "    num_batches = len(dataloader)\n",
    "    test_loss, correct = 0, 0\n",
    "\n",
    "    with torch.no_grad():\n",
    "        for X, y in dataloader:\n",
    "            X, y = X.to(device), y.to(device)\n",
    "            pred = model(X)\n",
    "            test_loss += loss_fn(pred, y).item()\n",
    "            correct += (pred.argmax(1) == 1).type(torch.float).sum().item()\n",
    "    \n",
    "    test_loss /= num_batches\n",
    "    correct /= size\n",
    "    print(f\"Test Error: \\n Accuracy: {(100*correct): >0.1f}%, Avg loss: {test_loss:>8f} \\n\")"
   ]
  },
  {
   "cell_type": "code",
   "execution_count": 56,
   "metadata": {},
   "outputs": [
    {
     "name": "stdout",
     "output_type": "stream",
     "text": [
      "Epoch 1 \n",
      "---------------------\n",
      "loss: 2.185640 [    0/60000]\n",
      "loss: 2.179502 [ 6400/60000]\n",
      "loss: 2.125562 [12800/60000]\n",
      "loss: 2.140673 [19200/60000]\n",
      "loss: 2.106235 [25600/60000]\n",
      "loss: 2.036454 [32000/60000]\n",
      "loss: 2.067047 [38400/60000]\n",
      "loss: 1.999986 [44800/60000]\n",
      "loss: 2.015236 [51200/60000]\n",
      "loss: 1.932488 [57600/60000]\n",
      "Test Error: \n",
      " Accuracy: 9.8%, Avg loss: 1.940173 \n",
      "\n",
      "Epoch 2 \n",
      "---------------------\n",
      "loss: 1.973414 [    0/60000]\n",
      "loss: 1.949384 [ 6400/60000]\n",
      "loss: 1.841344 [12800/60000]\n",
      "loss: 1.870465 [19200/60000]\n",
      "loss: 1.783064 [25600/60000]\n",
      "loss: 1.715612 [32000/60000]\n",
      "loss: 1.734989 [38400/60000]\n",
      "loss: 1.643536 [44800/60000]\n",
      "loss: 1.673274 [51200/60000]\n",
      "loss: 1.548985 [57600/60000]\n",
      "Test Error: \n",
      " Accuracy: 12.2%, Avg loss: 1.578251 \n",
      "\n",
      "Epoch 3 \n",
      "---------------------\n",
      "loss: 1.646021 [    0/60000]\n",
      "loss: 1.611748 [ 6400/60000]\n",
      "loss: 1.464522 [12800/60000]\n",
      "loss: 1.518940 [19200/60000]\n",
      "loss: 1.413867 [25600/60000]\n",
      "loss: 1.398170 [32000/60000]\n",
      "loss: 1.404699 [38400/60000]\n",
      "loss: 1.332219 [44800/60000]\n",
      "loss: 1.372880 [51200/60000]\n",
      "loss: 1.261017 [57600/60000]\n",
      "Test Error: \n",
      " Accuracy: 11.2%, Avg loss: 1.291744 \n",
      "\n",
      "Epoch 4 \n",
      "---------------------\n",
      "loss: 1.371487 [    0/60000]\n",
      "loss: 1.352576 [ 6400/60000]\n",
      "loss: 1.188098 [12800/60000]\n",
      "loss: 1.279754 [19200/60000]\n",
      "loss: 1.166541 [25600/60000]\n",
      "loss: 1.187699 [32000/60000]\n",
      "loss: 1.201593 [38400/60000]\n",
      "loss: 1.138918 [44800/60000]\n",
      "loss: 1.183456 [51200/60000]\n",
      "loss: 1.094176 [57600/60000]\n",
      "Test Error: \n",
      " Accuracy: 9.8%, Avg loss: 1.114967 \n",
      "\n",
      "Epoch 5 \n",
      "---------------------\n",
      "loss: 1.186465 [    0/60000]\n",
      "loss: 1.189400 [ 6400/60000]\n",
      "loss: 1.009320 [12800/60000]\n",
      "loss: 1.133477 [19200/60000]\n",
      "loss: 1.015368 [25600/60000]\n",
      "loss: 1.047459 [32000/60000]\n",
      "loss: 1.075503 [38400/60000]\n",
      "loss: 1.017243 [44800/60000]\n",
      "loss: 1.061953 [51200/60000]\n",
      "loss: 0.988239 [57600/60000]\n",
      "Test Error: \n",
      " Accuracy: 9.4%, Avg loss: 1.001558 \n",
      "\n",
      "Epoch 6 \n",
      "---------------------\n",
      "loss: 1.059336 [    0/60000]\n",
      "loss: 1.084553 [ 6400/60000]\n",
      "loss: 0.888442 [12800/60000]\n",
      "loss: 1.036802 [19200/60000]\n",
      "loss: 0.920103 [25600/60000]\n",
      "loss: 0.948146 [32000/60000]\n",
      "loss: 0.991833 [38400/60000]\n",
      "loss: 0.938295 [44800/60000]\n",
      "loss: 0.977723 [51200/60000]\n",
      "loss: 0.916659 [57600/60000]\n",
      "Test Error: \n",
      " Accuracy: 9.3%, Avg loss: 0.924234 \n",
      "\n",
      "Epoch 7 \n",
      "---------------------\n",
      "loss: 0.966277 [    0/60000]\n",
      "loss: 1.012390 [ 6400/60000]\n",
      "loss: 0.802007 [12800/60000]\n",
      "loss: 0.968836 [19200/60000]\n",
      "loss: 0.856592 [25600/60000]\n",
      "loss: 0.874689 [32000/60000]\n",
      "loss: 0.932401 [38400/60000]\n",
      "loss: 0.885663 [44800/60000]\n",
      "loss: 0.916739 [51200/60000]\n",
      "loss: 0.865019 [57600/60000]\n",
      "Test Error: \n",
      " Accuracy: 9.3%, Avg loss: 0.868629 \n",
      "\n",
      "Epoch 8 \n",
      "---------------------\n",
      "loss: 0.895283 [    0/60000]\n",
      "loss: 0.958871 [ 6400/60000]\n",
      "loss: 0.737378 [12800/60000]\n",
      "loss: 0.918611 [19200/60000]\n",
      "loss: 0.811449 [25600/60000]\n",
      "loss: 0.818979 [32000/60000]\n",
      "loss: 0.887444 [38400/60000]\n",
      "loss: 0.849099 [44800/60000]\n",
      "loss: 0.870921 [51200/60000]\n",
      "loss: 0.825562 [57600/60000]\n",
      "Test Error: \n",
      " Accuracy: 9.3%, Avg loss: 0.826616 \n",
      "\n",
      "Epoch 9 \n",
      "---------------------\n",
      "loss: 0.838962 [    0/60000]\n",
      "loss: 0.916423 [ 6400/60000]\n",
      "loss: 0.687070 [12800/60000]\n",
      "loss: 0.880084 [19200/60000]\n",
      "loss: 0.777227 [25600/60000]\n",
      "loss: 0.775827 [32000/60000]\n",
      "loss: 0.851487 [38400/60000]\n",
      "loss: 0.822201 [44800/60000]\n",
      "loss: 0.835430 [51200/60000]\n",
      "loss: 0.793969 [57600/60000]\n",
      "Test Error: \n",
      " Accuracy: 9.3%, Avg loss: 0.793438 \n",
      "\n",
      "Epoch 10 \n",
      "---------------------\n",
      "loss: 0.792807 [    0/60000]\n",
      "loss: 0.880634 [ 6400/60000]\n",
      "loss: 0.646539 [12800/60000]\n",
      "loss: 0.849560 [19200/60000]\n",
      "loss: 0.749843 [25600/60000]\n",
      "loss: 0.741735 [32000/60000]\n",
      "loss: 0.821240 [38400/60000]\n",
      "loss: 0.801264 [44800/60000]\n",
      "loss: 0.806919 [51200/60000]\n",
      "loss: 0.767702 [57600/60000]\n",
      "Test Error: \n",
      " Accuracy: 9.4%, Avg loss: 0.766130 \n",
      "\n",
      "Done!\n"
     ]
    }
   ],
   "source": [
    "epochs = 10\n",
    "for t in range(epochs):\n",
    "    print(f\"Epoch {t+1} \\n---------------------\")\n",
    "    train_loop(train_dataloader, model, loss_fn, optimizer)\n",
    "    test_loop(test_dataloader, model, loss_fn)\n",
    "print(\"Done!\")"
   ]
  },
  {
   "cell_type": "code",
   "execution_count": null,
   "metadata": {},
   "outputs": [],
   "source": []
  }
 ],
 "metadata": {
  "kernelspec": {
   "display_name": "eeg_sleep_stage",
   "language": "python",
   "name": "python3"
  },
  "language_info": {
   "codemirror_mode": {
    "name": "ipython",
    "version": 3
   },
   "file_extension": ".py",
   "mimetype": "text/x-python",
   "name": "python",
   "nbconvert_exporter": "python",
   "pygments_lexer": "ipython3",
   "version": "3.10.13"
  },
  "orig_nbformat": 4
 },
 "nbformat": 4,
 "nbformat_minor": 2
}
